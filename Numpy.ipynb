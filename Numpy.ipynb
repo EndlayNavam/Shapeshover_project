{
  "nbformat": 4,
  "nbformat_minor": 0,
  "metadata": {
    "colab": {
      "provenance": [],
      "authorship_tag": "ABX9TyMJYkewXjpgtfN52yVx0IPE",
      "include_colab_link": true
    },
    "kernelspec": {
      "name": "python3",
      "display_name": "Python 3"
    },
    "language_info": {
      "name": "python"
    }
  },
  "cells": [
    {
      "cell_type": "markdown",
      "metadata": {
        "id": "view-in-github",
        "colab_type": "text"
      },
      "source": [
        "<a href=\"https://colab.research.google.com/github/EndlayNavam/Shapeshover_project/blob/main/Numpy.ipynb\" target=\"_parent\"><img src=\"https://colab.research.google.com/assets/colab-badge.svg\" alt=\"Open In Colab\"/></a>"
      ]
    },
    {
      "cell_type": "code",
      "execution_count": null,
      "metadata": {
        "id": "ZZmRi4cy9wdI"
      },
      "outputs": [],
      "source": []
    },
    {
      "cell_type": "markdown",
      "source": [
        "System Specifications"
      ],
      "metadata": {
        "id": "Dp2cLoDyItOC"
      }
    },
    {
      "cell_type": "code",
      "source": [
        "! pip install pandas"
      ],
      "metadata": {
        "colab": {
          "base_uri": "https://localhost:8080/"
        },
        "id": "B47SYAdTI0W6",
        "outputId": "24bbeb3d-91f0-4dc3-c215-6b5731be5977"
      },
      "execution_count": null,
      "outputs": [
        {
          "output_type": "stream",
          "name": "stdout",
          "text": [
            "Requirement already satisfied: pandas in /usr/local/lib/python3.11/dist-packages (2.2.2)\n",
            "Requirement already satisfied: numpy>=1.23.2 in /usr/local/lib/python3.11/dist-packages (from pandas) (2.0.2)\n",
            "Requirement already satisfied: python-dateutil>=2.8.2 in /usr/local/lib/python3.11/dist-packages (from pandas) (2.9.0.post0)\n",
            "Requirement already satisfied: pytz>=2020.1 in /usr/local/lib/python3.11/dist-packages (from pandas) (2025.2)\n",
            "Requirement already satisfied: tzdata>=2022.7 in /usr/local/lib/python3.11/dist-packages (from pandas) (2025.2)\n",
            "Requirement already satisfied: six>=1.5 in /usr/local/lib/python3.11/dist-packages (from python-dateutil>=2.8.2->pandas) (1.17.0)\n"
          ]
        }
      ]
    },
    {
      "cell_type": "code",
      "source": [
        "import numpy as np"
      ],
      "metadata": {
        "id": "h7Wn1q3fJv7B"
      },
      "execution_count": null,
      "outputs": []
    },
    {
      "cell_type": "code",
      "source": [
        "|c = np.array([(1,2,3,4), (5,6,7,8)], dtype=float)\n",
        "print (c)"
      ],
      "metadata": {
        "colab": {
          "base_uri": "https://localhost:8080/"
        },
        "id": "uI86ZoVGSS07",
        "outputId": "b0b3af1d-3ab2-429c-b7e3-f2a04aa41b70"
      },
      "execution_count": null,
      "outputs": [
        {
          "output_type": "stream",
          "name": "stdout",
          "text": [
            "[[1. 2. 3. 4.]\n",
            " [5. 6. 7. 8.]]\n"
          ]
        }
      ]
    },
    {
      "cell_type": "code",
      "source": [
        "#create a numpy of ones"
      ],
      "metadata": {
        "id": "P0mQdpw6uFcX"
      },
      "execution_count": null,
      "outputs": []
    },
    {
      "cell_type": "code",
      "source": [
        "y=np.ones((3,3))\n",
        "print(y)"
      ],
      "metadata": {
        "colab": {
          "base_uri": "https://localhost:8080/"
        },
        "id": "1gepKFSWuhIR",
        "outputId": "068f0f8f-73e5-4511-c801-fb16a7acfddd"
      },
      "execution_count": null,
      "outputs": [
        {
          "output_type": "stream",
          "name": "stdout",
          "text": [
            "[[1. 1. 1.]\n",
            " [1. 1. 1.]\n",
            " [1. 1. 1.]]\n"
          ]
        }
      ]
    },
    {
      "cell_type": "code",
      "source": [
        "#array of particular value\n",
        "z=np.full((5,4), 2.3)\n",
        "print(z)"
      ],
      "metadata": {
        "colab": {
          "base_uri": "https://localhost:8080/"
        },
        "id": "rgkow9w5uoB1",
        "outputId": "7450c238-fe7c-40b4-b519-bdd8ecf595d2"
      },
      "execution_count": null,
      "outputs": [
        {
          "output_type": "stream",
          "name": "stdout",
          "text": [
            "[[2.3 2.3 2.3 2.3]\n",
            " [2.3 2.3 2.3 2.3]\n",
            " [2.3 2.3 2.3 2.3]\n",
            " [2.3 2.3 2.3 2.3]\n",
            " [2.3 2.3 2.3 2.3]]\n"
          ]
        }
      ]
    },
    {
      "cell_type": "code",
      "source": [
        "# create an identity matrix which means same number of rows & columns\n",
        "#All diagonal elements will be 1\n",
        "a=np.eye(4)\n",
        "print(a)"
      ],
      "metadata": {
        "colab": {
          "base_uri": "https://localhost:8080/"
        },
        "id": "ZrEpuvpxuzut",
        "outputId": "dd1256a8-223c-4529-955c-f53ca914f0c6"
      },
      "execution_count": null,
      "outputs": [
        {
          "output_type": "stream",
          "name": "stdout",
          "text": [
            "[[1. 0. 0. 0.]\n",
            " [0. 1. 0. 0.]\n",
            " [0. 0. 1. 0.]\n",
            " [0. 0. 0. 1.]]\n"
          ]
        }
      ]
    },
    {
      "cell_type": "code",
      "source": [
        "#create a numpy array with random values\n",
        "#It will only print between 0 and 1 (only float)\n",
        "b=np.random.random((3,4))\n",
        "print(b)"
      ],
      "metadata": {
        "colab": {
          "base_uri": "https://localhost:8080/"
        },
        "id": "XkQZZBzQvQ2Z",
        "outputId": "53fbe757-4a30-48ae-c0a7-40118c56582c"
      },
      "execution_count": null,
      "outputs": [
        {
          "output_type": "stream",
          "name": "stdout",
          "text": [
            "[[0.93069529 0.86422065 0.35984872 0.03375603]\n",
            " [0.91604946 0.767824   0.42696656 0.39191832]\n",
            " [0.93346308 0.3685825  0.62360395 0.33172178]]\n"
          ]
        }
      ]
    },
    {
      "cell_type": "code",
      "source": [
        "#create a numpy array with random integers of our choice\n",
        "c= np.random.randint(10,100,(3,5))\n",
        "print(c)"
      ],
      "metadata": {
        "colab": {
          "base_uri": "https://localhost:8080/"
        },
        "id": "mm-6nzzavnqG",
        "outputId": "b16b9755-7555-4f32-e8c7-e1d289342c3a"
      },
      "execution_count": null,
      "outputs": [
        {
          "output_type": "stream",
          "name": "stdout",
          "text": [
            "[[50 87 98 42 82]\n",
            " [49 83 44 29 88]\n",
            " [98 36 89 97 81]]\n"
          ]
        }
      ]
    },
    {
      "cell_type": "code",
      "source": [
        "# array of evenly spaced values (starting point, ending point, number of values)\n",
        "d = np.linspace(10,30,5)\n",
        "print(d)"
      ],
      "metadata": {
        "id": "3-3FuHZmv4Su",
        "colab": {
          "base_uri": "https://localhost:8080/"
        },
        "outputId": "81923fe5-01c5-49fd-aa96-6ac33250736d"
      },
      "execution_count": null,
      "outputs": [
        {
          "output_type": "stream",
          "name": "stdout",
          "text": [
            "[10. 15. 20. 25. 30.]\n"
          ]
        }
      ]
    },
    {
      "cell_type": "code",
      "source": [
        "# array of evenly spaced values (starting point, ending point, step between each number)\n",
        "#Last number not counted\n",
        "e = np.arange(10,30,5)\n",
        "print(e)"
      ],
      "metadata": {
        "colab": {
          "base_uri": "https://localhost:8080/"
        },
        "id": "ujVqTWVhSg3j",
        "outputId": "b71f704d-99dc-4571-db45-1a6e205219bc"
      },
      "execution_count": null,
      "outputs": [
        {
          "output_type": "stream",
          "name": "stdout",
          "text": [
            "[10 15 20 25]\n"
          ]
        }
      ]
    },
    {
      "cell_type": "code",
      "source": [
        "# convert list to numpy array\n",
        "list1 = [1,2,3]\n",
        "\n",
        "np_array = np.asarray(list1)\n",
        "print(np_array)\n",
        "type(np_array)"
      ],
      "metadata": {
        "colab": {
          "base_uri": "https://localhost:8080/"
        },
        "id": "KcoI3wQ9TT-5",
        "outputId": "6f789c03-ac36-425e-b2d5-d87c4faddc13"
      },
      "execution_count": null,
      "outputs": [
        {
          "output_type": "stream",
          "name": "stdout",
          "text": [
            "[1 2 3]\n"
          ]
        },
        {
          "output_type": "execute_result",
          "data": {
            "text/plain": [
              "numpy.ndarray"
            ]
          },
          "metadata": {},
          "execution_count": 8
        }
      ]
    },
    {
      "cell_type": "markdown",
      "source": [
        "Analysis of numpy array"
      ],
      "metadata": {
        "id": "pVkzc1gDsjFK"
      }
    },
    {
      "cell_type": "code",
      "source": [
        "c = np.random.randint(10,100,(5,5))\n",
        "print(c)"
      ],
      "metadata": {
        "colab": {
          "base_uri": "https://localhost:8080/"
        },
        "id": "Md-SvH_3ssDT",
        "outputId": "9de184d2-2435-411a-e00e-47a43ae96a1b"
      },
      "execution_count": null,
      "outputs": [
        {
          "output_type": "stream",
          "name": "stdout",
          "text": [
            "[[10 87 18 22 44]\n",
            " [38 54 53 75 26]\n",
            " [42 14 17 22 50]\n",
            " [77 45 14 23 16]\n",
            " [34 27 19 86 83]]\n"
          ]
        }
      ]
    },
    {
      "cell_type": "code",
      "source": [
        "#array dimension\n",
        "print (c.shape)\n",
        "\n",
        "#number of dimensions\n",
        "print(c.ndim)\n",
        "\n",
        "#number of elements in an array\n",
        "print(c.size)\n",
        "\n",
        "# datatype of value\n",
        "print(c.dtype)"
      ],
      "metadata": {
        "colab": {
          "base_uri": "https://localhost:8080/"
        },
        "id": "aGDQn6iNsyUC",
        "outputId": "e72c68eb-76d0-4716-8118-e44e16284cb2"
      },
      "execution_count": null,
      "outputs": [
        {
          "output_type": "stream",
          "name": "stdout",
          "text": [
            "(5, 5)\n",
            "2\n",
            "25\n",
            "int64\n"
          ]
        }
      ]
    },
    {
      "cell_type": "markdown",
      "source": [
        "Mathematical Operations"
      ],
      "metadata": {
        "id": "p7ZBlrYhw_g1"
      }
    },
    {
      "cell_type": "code",
      "source": [
        "list1= [1,2,3,4,5]\n",
        "list2 = [6,7,8,9,10]\n",
        "print (list1+list2)\n",
        "\n",
        "a= np.random.randint(0,10,(3,3))\n",
        "b= np.random.randint(0,10,(3,3))\n",
        "print(a)\n",
        "\n",
        "print(b)\n",
        "\n",
        "print(a+b)\n",
        "print(np.add(a,b))"
      ],
      "metadata": {
        "colab": {
          "base_uri": "https://localhost:8080/"
        },
        "id": "0FMLDPUDxI7z",
        "outputId": "4266c4ad-784d-4744-c617-3d7d664b18ea"
      },
      "execution_count": null,
      "outputs": [
        {
          "output_type": "stream",
          "name": "stdout",
          "text": [
            "[1, 2, 3, 4, 5, 6, 7, 8, 9, 10]\n",
            "[[5 3 4]\n",
            " [2 3 7]\n",
            " [1 3 9]]\n",
            "[[1 0 3]\n",
            " [6 6 4]\n",
            " [4 0 9]]\n",
            "[[ 6  3  7]\n",
            " [ 8  9 11]\n",
            " [ 5  3 18]]\n",
            "[[ 6  3  7]\n",
            " [ 8  9 11]\n",
            " [ 5  3 18]]\n"
          ]
        }
      ]
    },
    {
      "cell_type": "code",
      "source": [],
      "metadata": {
        "id": "AAoJ1UoFxR4m"
      },
      "execution_count": null,
      "outputs": []
    }
  ]
}